{
  "nbformat": 4,
  "nbformat_minor": 0,
  "metadata": {
    "colab": {
      "name": "Calories Burned Prediction.ipynb",
      "provenance": [],
      "collapsed_sections": [],
      "authorship_tag": "ABX9TyPA8u7vHvofo3TdUWhYHlal",
      "include_colab_link": true
    },
    "kernelspec": {
      "name": "python3",
      "display_name": "Python 3"
    }
  },
  "cells": [
    {
      "cell_type": "markdown",
      "metadata": {
        "id": "view-in-github",
        "colab_type": "text"
      },
      "source": [
        "<a href=\"https://colab.research.google.com/github/AnatoliyZhuk/Project_to_Analyze/blob/main/Projects/Calories_Burned_Prediction.ipynb\" target=\"_parent\"><img src=\"https://colab.research.google.com/assets/colab-badge.svg\" alt=\"Open In Colab\"/></a>"
      ]
    },
    {
      "cell_type": "markdown",
      "metadata": {
        "id": "EIPri6LijRCq"
      },
      "source": [
        "Импорт необходимых библиотек"
      ]
    },
    {
      "cell_type": "code",
      "metadata": {
        "id": "uuGkGmZTvXRy"
      },
      "source": [
        "import pandas as pd\r\n",
        "import numpy as np\r\n",
        "import matplotlib.pyplot as plt\r\n",
        "import seaborn as sns\r\n",
        "from sklearn.linear_model import LinearRegression"
      ],
      "execution_count": 1,
      "outputs": []
    },
    {
      "cell_type": "markdown",
      "metadata": {
        "id": "otnTyAQzjHgk"
      },
      "source": [
        "Загрузим необходимые для проекта dataset'ы <br/>"
      ]
    },
    {
      "cell_type": "code",
      "metadata": {
        "id": "OHAOZrz5w-bx"
      },
      "source": [
        "exercise = pd.read_csv('https://raw.githubusercontent.com/AnatoliyZhuk/Project_to_Analyze/main/exercise.csv', sep=',')\r\n",
        "calories = pd.read_csv('https://raw.githubusercontent.com/AnatoliyZhuk/Project_to_Analyze/main/calories.csv', sep=',')"
      ],
      "execution_count": 2,
      "outputs": []
    },
    {
      "cell_type": "markdown",
      "metadata": {
        "id": "46i2TVUkkD1H"
      },
      "source": [
        "Функция **pd.merge()** осуществляет слияние двух DataFrame'ов <br/>\r\n",
        "Переименуем одну из колонок для лучшего понимания смысла <br/>\r\n",
        "Для описания коэффициента $b_0$ в линейной регрессии нам потребуется дополнительный первый столбец, заполненный единицами в метрице признаков, для этого используем колонку **Intercept** <br/>"
      ]
    },
    {
      "cell_type": "code",
      "metadata": {
        "id": "2mHEyBFCxbUQ",
        "colab": {
          "base_uri": "https://localhost:8080/",
          "height": 142
        },
        "outputId": "d4f11e13-0d2a-49d9-e017-e29840dbe6c9"
      },
      "source": [
        "data = pd.merge(exercise, calories, how='inner', on='User_ID')\r\n",
        "data = data.rename(columns={'Duration' : 'Duration_exircise'})\r\n",
        "data['Intercept'] = 1\r\n",
        "data.head(3)\r\n"
      ],
      "execution_count": 3,
      "outputs": [
        {
          "output_type": "execute_result",
          "data": {
            "text/html": [
              "<div>\n",
              "<style scoped>\n",
              "    .dataframe tbody tr th:only-of-type {\n",
              "        vertical-align: middle;\n",
              "    }\n",
              "\n",
              "    .dataframe tbody tr th {\n",
              "        vertical-align: top;\n",
              "    }\n",
              "\n",
              "    .dataframe thead th {\n",
              "        text-align: right;\n",
              "    }\n",
              "</style>\n",
              "<table border=\"1\" class=\"dataframe\">\n",
              "  <thead>\n",
              "    <tr style=\"text-align: right;\">\n",
              "      <th></th>\n",
              "      <th>User_ID</th>\n",
              "      <th>Gender</th>\n",
              "      <th>Age</th>\n",
              "      <th>Height</th>\n",
              "      <th>Weight</th>\n",
              "      <th>Duration_exircise</th>\n",
              "      <th>Heart_Rate</th>\n",
              "      <th>Body_Temp</th>\n",
              "      <th>Calories</th>\n",
              "      <th>Intercept</th>\n",
              "    </tr>\n",
              "  </thead>\n",
              "  <tbody>\n",
              "    <tr>\n",
              "      <th>0</th>\n",
              "      <td>14733363</td>\n",
              "      <td>male</td>\n",
              "      <td>68</td>\n",
              "      <td>190.0</td>\n",
              "      <td>94.0</td>\n",
              "      <td>29.0</td>\n",
              "      <td>105.0</td>\n",
              "      <td>40.8</td>\n",
              "      <td>231.0</td>\n",
              "      <td>1</td>\n",
              "    </tr>\n",
              "    <tr>\n",
              "      <th>1</th>\n",
              "      <td>14861698</td>\n",
              "      <td>female</td>\n",
              "      <td>20</td>\n",
              "      <td>166.0</td>\n",
              "      <td>60.0</td>\n",
              "      <td>14.0</td>\n",
              "      <td>94.0</td>\n",
              "      <td>40.3</td>\n",
              "      <td>66.0</td>\n",
              "      <td>1</td>\n",
              "    </tr>\n",
              "    <tr>\n",
              "      <th>2</th>\n",
              "      <td>11179863</td>\n",
              "      <td>male</td>\n",
              "      <td>69</td>\n",
              "      <td>179.0</td>\n",
              "      <td>79.0</td>\n",
              "      <td>5.0</td>\n",
              "      <td>88.0</td>\n",
              "      <td>38.7</td>\n",
              "      <td>26.0</td>\n",
              "      <td>1</td>\n",
              "    </tr>\n",
              "  </tbody>\n",
              "</table>\n",
              "</div>"
            ],
            "text/plain": [
              "    User_ID  Gender  Age  Height  ...  Heart_Rate  Body_Temp  Calories  Intercept\n",
              "0  14733363    male   68   190.0  ...       105.0       40.8     231.0          1\n",
              "1  14861698  female   20   166.0  ...        94.0       40.3      66.0          1\n",
              "2  11179863    male   69   179.0  ...        88.0       38.7      26.0          1\n",
              "\n",
              "[3 rows x 10 columns]"
            ]
          },
          "metadata": {
            "tags": []
          },
          "execution_count": 3
        }
      ]
    },
    {
      "cell_type": "markdown",
      "metadata": {
        "id": "KbCtLTLelxY5"
      },
      "source": [
        "Используем поднастройку **sns.set()** для визуализации в стиле **seaborn**"
      ]
    },
    {
      "cell_type": "code",
      "metadata": {
        "colab": {
          "base_uri": "https://localhost:8080/",
          "height": 485
        },
        "id": "XV2OSk0BxqhG",
        "outputId": "48e15302-0325-4b92-c174-1340ae26257e"
      },
      "source": [
        "sns.set() \r\n",
        "plt.figure(figsize=(8, 8))\r\n",
        "plt.plot(data['Duration_exircise'], data['Calories'], 'bo')\r\n",
        "None"
      ],
      "execution_count": 4,
      "outputs": [
        {
          "output_type": "display_data",
          "data": {
            "image/png": "[encoded data removed]",
            "text/plain": [
              "<Figure size 576x576 with 1 Axes>"
            ]
          },
          "metadata": {
            "tags": []
          }
        }
      ]
    },
    {
      "cell_type": "code",
      "metadata": {
        "id": "Hc4x4OCNyPms"
      },
      "source": [
        "X = np.array(data.loc[:, ['Intercept', 'Duration_exircise']])\r\n",
        "y = data.loc[:, 'Calories']"
      ],
      "execution_count": 5,
      "outputs": []
    },
    {
      "cell_type": "markdown",
      "metadata": {
        "id": "-dmD1wgaq8WH"
      },
      "source": [
        "Матричная запись для линейной регрессии: $y = Xb + e$ <br/>\r\n",
        "Чтобы найти вектор коэффициентов $b$ - нужно умножить обе стороны на транспонированную матрицу $X$: <br/>\r\n",
        "$X^\\mathrm{T}y = X^\\mathrm{T}Xb$ <br/> \r\n",
        "После чего обратить матрицу, получая следующий вид уравнения: <br/>\r\n",
        "$b = (X^\\mathrm{T}X)^{-1}X^\\mathrm{T}y$ "
      ]
    },
    {
      "cell_type": "markdown",
      "metadata": {
        "id": "_dmhefqjnj7t"
      },
      "source": [
        "Не используя библиотеку **Scikit-learn** напишем функцию для линейной регрессии для более глубокого понимания <br/>\r\n",
        "Функция **matmul()** вычисляет матричное произведение двух массивов. <br/>\r\n",
        "Функция **linalg.inv()** вычисляет обратную матрицу. <br/>\r\n",
        "Вычисление обратной матрицы возможно только для квадратных матриц, в случае если матрица не является квадратной, то возникнет ошибка **LinAlgError** <br/>"
      ]
    },
    {
      "cell_type": "code",
      "metadata": {
        "id": "-yAB5BOYndGL"
      },
      "source": [
        "def lin_reg(X_var, y_var):\r\n",
        "  coeff = np.matmul(np.matmul(np.linalg.inv(np.matmul(X_var.T, X_var)), X_var.T), y_var)\r\n",
        "  return coeff\r\n"
      ],
      "execution_count": 6,
      "outputs": []
    },
    {
      "cell_type": "code",
      "metadata": {
        "colab": {
          "base_uri": "https://localhost:8080/"
        },
        "id": "2mT7-DSWuGAn",
        "outputId": "fa23e7a2-d583-452d-8b9f-d0cf0e696ce7"
      },
      "source": [
        "coeffs = lin_reg(X, y)\r\n",
        "print(f'С помощью линейной регрессии были найдены коэфициенты:\\n Смещение составило {coeffs[0]}\\n Наклон прямой: {coeffs[1]}')"
      ],
      "execution_count": 7,
      "outputs": [
        {
          "output_type": "stream",
          "text": [
            "С помощью линейной регрессии были найдены коэфициенты:\n",
            " Смещение составило -21.859656399672385\n",
            " Наклон прямой: 7.172883837907462\n"
          ],
          "name": "stdout"
        }
      ]
    },
    {
      "cell_type": "code",
      "metadata": {
        "id": "oLxAcIawqIZN"
      },
      "source": [
        "x_var = np.linspace(4, 35, 1000)\r\n",
        "y_var = coeffs[0] + coeffs[1] * x_var"
      ],
      "execution_count": 8,
      "outputs": []
    },
    {
      "cell_type": "code",
      "metadata": {
        "colab": {
          "base_uri": "https://localhost:8080/",
          "height": 268
        },
        "id": "RSFtRyxuzBU3",
        "outputId": "0bbb877d-1e2f-4a29-ea40-9e7238727038"
      },
      "source": [
        "plt.plot(data['Duration_exircise'], data['Calories'], 'bo')\r\n",
        "plt.plot(x_var, y_var, 'r')\r\n",
        "None"
      ],
      "execution_count": 9,
      "outputs": [
        {
          "output_type": "display_data",
          "data": {
            "image/png": "[encoded data removed]",
            "text/plain": [
              "<Figure size 432x288 with 1 Axes>"
            ]
          },
          "metadata": {
            "tags": []
          }
        }
      ]
    },
    {
      "cell_type": "markdown",
      "metadata": {
        "id": "dT_FkIes0Y76"
      },
      "source": [
        "Таким образом, имея прямую, полученную с помощью линейной регрессии, можно оценить сколько калорий будет сожжено в зависимости от длительности физических упражнений"
      ]
    },
    {
      "cell_type": "code",
      "metadata": {
        "colab": {
          "base_uri": "https://localhost:8080/"
        },
        "id": "L9ew2tJQzHh5",
        "outputId": "a98ccca0-e7f3-4918-db22-4a38a0267845"
      },
      "source": [
        "print(f'С помощью 15 минут физических упражнений можно потерять {coeffs[0] + coeffs[1] * 15} калорий')"
      ],
      "execution_count": 10,
      "outputs": [
        {
          "output_type": "stream",
          "text": [
            "С помощью 15 минут физических упражнений можно потерять 85.73360116893954 калорий\n"
          ],
          "name": "stdout"
        }
      ]
    },
    {
      "cell_type": "markdown",
      "metadata": {
        "id": "vAPSaBx34fUi"
      },
      "source": [
        "Попробуем воспользоваться **линейной регрессией** из библиотеки **scikit-learn** и сравнить полученные результаты <br/>\r\n",
        "Используем **reshape**, чтобы 'транспонировать' массив (сделать из него столбец) <br/>"
      ]
    },
    {
      "cell_type": "code",
      "metadata": {
        "id": "60hYQDUQ5tik"
      },
      "source": [
        "Xx = np.array(data['Duration_exircise']).reshape(-1, 1)"
      ],
      "execution_count": 11,
      "outputs": []
    },
    {
      "cell_type": "markdown",
      "metadata": {
        "id": "zmryTUbn9ztu"
      },
      "source": [
        "Обучение линейной регрессии <br/>"
      ]
    },
    {
      "cell_type": "code",
      "metadata": {
        "colab": {
          "base_uri": "https://localhost:8080/"
        },
        "id": "aDkqtohB4sKz",
        "outputId": "3050058c-8da2-4a5a-8dcf-86c8c788e125"
      },
      "source": [
        "dor = LinearRegression()\r\n",
        "dor.fit(Xx,y)\r\n",
        "varr = float(dor.coef_)\r\n",
        "\r\n",
        "print(f\"Используя линейную регрессию из библиотеки Scikit-learn, были получены:\\n Значение смещения {dor.intercept_}\\n Значение коэффициента при объясняющей переменной {varr}\\n Были получены абсолютно такие же значения коэффициентов регрессии, что и при использовании 'самодельной' функции\")"
      ],
      "execution_count": 12,
      "outputs": [
        {
          "output_type": "stream",
          "text": [
            "Используя линейную регрессию из библиотеки Scikit-learn, были получены:\n",
            " Значение смещения -21.859656399672318\n",
            " Значение коэффициента при объясняющей переменной 7.172883837907464\n",
            " Были получены абсолютно такие же значения коэффициентов регрессии, что и при использовании 'самодельной' функции\n"
          ],
          "name": "stdout"
        }
      ]
    }
  ]
}